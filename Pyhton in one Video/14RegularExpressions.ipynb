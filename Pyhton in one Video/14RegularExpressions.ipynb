{
 "cells": [
  {
   "cell_type": "code",
   "execution_count": 1,
   "metadata": {},
   "outputs": [],
   "source": [
    "import re"
   ]
  },
  {
   "cell_type": "code",
   "execution_count": 2,
   "metadata": {},
   "outputs": [
    {
     "data": {
      "text/plain": [
       "'\\n. - match any char\\n\\n[a-zA-Z] - char class  a or b or c ...z A or B or C ..... Z\\n\\n[0-9]- digit class 0 or 1 or 2 .... 9\\n\\n+ means atleast one\\n\\n* means 0 or more\\n\\n^ to match at start\\n\\n$ to match at end\\n\\n? as optional\\n\\n[a-z]{4} has to be 4 char occurences\\n\\n[a-z]{2,4} less than 2 and more than 4 not acceptable.\\n\\n'"
      ]
     },
     "execution_count": 2,
     "metadata": {},
     "output_type": "execute_result"
    }
   ],
   "source": [
    "'''\n",
    ". - match any char\n",
    "\n",
    "[a-zA-Z] - char class  a or b or c ...z A or B or C ..... Z\n",
    "\n",
    "[0-9]- digit class 0 or 1 or 2 .... 9\n",
    "\n",
    "+ means atleast one\n",
    "\n",
    "* means 0 or more\n",
    "\n",
    "^ to match at start\n",
    "\n",
    "$ to match at end\n",
    "\n",
    "? as optional\n",
    "\n",
    "[a-z]{4} has to be 4 char occurences\n",
    "\n",
    "[a-z]{2,4} less than 2 and more than 4 not acceptable.\n",
    "\n",
    "'''"
   ]
  },
  {
   "cell_type": "code",
   "execution_count": 3,
   "metadata": {},
   "outputs": [
    {
     "name": "stdout",
     "output_type": "stream",
     "text": [
      "['ABCDE1234A']\n"
     ]
    }
   ],
   "source": [
    "# EG PAN NUMBER ACCEPTED EXPRESSION\n",
    "s='ABCDE1234A'\n",
    "r=re.compile(\"[A-Z]{5}[0-9]{4}[A-Z]\")\n",
    "L=re.findall(r,s)\n",
    "print(L)"
   ]
  },
  {
   "cell_type": "code",
   "execution_count": 4,
   "metadata": {},
   "outputs": [
    {
     "name": "stdout",
     "output_type": "stream",
     "text": [
      "[]\n"
     ]
    }
   ],
   "source": [
    "# EG PAN NUMBER ACCEPTED EXPRESSION\n",
    "s='ABCDE123455A'\n",
    "r=re.compile(\"[A-Z]{5}[0-9]{4}[A-Z]\")\n",
    "L=re.findall(r,s)\n",
    "print(L)"
   ]
  },
  {
   "cell_type": "code",
   "execution_count": 5,
   "metadata": {},
   "outputs": [
    {
     "name": "stdout",
     "output_type": "stream",
     "text": [
      "['ABCDE1234A']\n"
     ]
    }
   ],
   "source": [
    "# EG PAN NUMBER ACCEPTED EXPRESSION\n",
    "s='AAAAABCDE1234A'\n",
    "r=re.compile(\"[A-Z]{5}[0-9]{4}[A-Z]\")\n",
    "L=re.findall(r,s)\n",
    "print(L)"
   ]
  },
  {
   "cell_type": "code",
   "execution_count": 6,
   "metadata": {},
   "outputs": [
    {
     "name": "stdout",
     "output_type": "stream",
     "text": [
      "[]\n"
     ]
    }
   ],
   "source": [
    "# EG PAN NUMBER ACCEPTED EXPRESSION\n",
    "s='AAAAABCDE1234A'\n",
    "r=re.compile(\"^[A-Z]{5}[0-9]{4}[A-Z]\")\n",
    "L=re.findall(r,s)\n",
    "print(L)"
   ]
  },
  {
   "cell_type": "code",
   "execution_count": 7,
   "metadata": {},
   "outputs": [
    {
     "name": "stdout",
     "output_type": "stream",
     "text": [
      "['ABCDE1234A']\n"
     ]
    }
   ],
   "source": [
    "# EG PAN NUMBER ACCEPTED EXPRESSION\n",
    "s='ABCDE1234AAAAA'\n",
    "r=re.compile(\"[A-Z]{5}[0-9]{4}[A-Z]\")\n",
    "L=re.findall(r,s)\n",
    "print(L)"
   ]
  },
  {
   "cell_type": "code",
   "execution_count": 8,
   "metadata": {},
   "outputs": [
    {
     "name": "stdout",
     "output_type": "stream",
     "text": [
      "[]\n"
     ]
    }
   ],
   "source": [
    "# EG PAN NUMBER ACCEPTED EXPRESSION\n",
    "s='ABCDE1234AAAAA'\n",
    "r=re.compile(\"[A-Z]{5}[0-9]{4}[A-Z]$\")\n",
    "L=re.findall(r,s)\n",
    "print(L)"
   ]
  },
  {
   "cell_type": "code",
   "execution_count": 9,
   "metadata": {},
   "outputs": [
    {
     "name": "stdout",
     "output_type": "stream",
     "text": [
      "['ABCDE1234A']\n"
     ]
    }
   ],
   "source": [
    "# EG PAN NUMBER ACCEPTED EXPRESSION\n",
    "s='ABCDE1234A'\n",
    "r=re.compile(\"[A-Z]{5}[0-9]{4}[A-Z]$\")\n",
    "L=re.findall(r,s)\n",
    "print(L)"
   ]
  },
  {
   "cell_type": "code",
   "execution_count": 16,
   "metadata": {},
   "outputs": [
    {
     "name": "stdout",
     "output_type": "stream",
     "text": [
      "['8708805598']\n"
     ]
    }
   ],
   "source": [
    "#Phone number 10 digit// first didgit should not be zero and first digit bw 6 and 9\n",
    "s1=\"8708805598\"\n",
    "r1=re.compile(\"^[6-9][0-9]{9}$\")\n",
    "L1=re.findall(r1,s1)\n",
    "print(L1)"
   ]
  },
  {
   "cell_type": "code",
   "execution_count": 19,
   "metadata": {},
   "outputs": [
    {
     "name": "stdout",
     "output_type": "stream",
     "text": [
      "['12-05-2018']\n"
     ]
    }
   ],
   "source": [
    "#dd-mm-yy\n",
    "s3=\"12-05-2018\"\n",
    "r3=re.compile(\"^[0-9]{2}-[0-9]{2}-[0-9]{4}$\")\n",
    "L3=re.findall(r3,s3)\n",
    "print(L3)"
   ]
  },
  {
   "cell_type": "code",
   "execution_count": null,
   "metadata": {},
   "outputs": [],
   "source": []
  }
 ],
 "metadata": {
  "kernelspec": {
   "display_name": "Python 3",
   "language": "python",
   "name": "python3"
  },
  "language_info": {
   "codemirror_mode": {
    "name": "ipython",
    "version": 3
   },
   "file_extension": ".py",
   "mimetype": "text/x-python",
   "name": "python",
   "nbconvert_exporter": "python",
   "pygments_lexer": "ipython3",
   "version": "3.7.6"
  }
 },
 "nbformat": 4,
 "nbformat_minor": 4
}
