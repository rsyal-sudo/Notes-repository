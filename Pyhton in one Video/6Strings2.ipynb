{
 "cells": [
  {
   "cell_type": "markdown",
   "metadata": {},
   "source": [
    "# Sring Functions Continued "
   ]
  },
  {
   "cell_type": "markdown",
   "metadata": {},
   "source": [
    "# maketrans() translate()"
   ]
  },
  {
   "cell_type": "code",
   "execution_count": 2,
   "metadata": {},
   "outputs": [
    {
     "name": "stdout",
     "output_type": "stream",
     "text": [
      "This is 1 python string 1234\n"
     ]
    }
   ],
   "source": [
    "s1=\"abcd\"\n",
    "\n",
    "s2=\"1234\"\n",
    "\n",
    "s3=\"This is a python string abcd\"\n",
    "\n",
    "table = str.maketrans(s1,s2)\n",
    "result=s3.translate(table)\n",
    "print(result)\n",
    "\n"
   ]
  },
  {
   "cell_type": "markdown",
   "metadata": {},
   "source": [
    "# index find rfind"
   ]
  },
  {
   "cell_type": "code",
   "execution_count": 7,
   "metadata": {},
   "outputs": [
    {
     "name": "stdout",
     "output_type": "stream",
     "text": [
      "5\n"
     ]
    }
   ],
   "source": [
    "s=\"HTML,PYTHON,CSS\"\n",
    "print(s.index(\"PYTHON\"))"
   ]
  },
  {
   "cell_type": "code",
   "execution_count": 9,
   "metadata": {},
   "outputs": [
    {
     "name": "stdout",
     "output_type": "stream",
     "text": [
      "5\n"
     ]
    }
   ],
   "source": [
    "s=\"HTML,PYTHON,CSS\"\n",
    "print(s.find(\"PYTHON\"))"
   ]
  },
  {
   "cell_type": "code",
   "execution_count": 10,
   "metadata": {},
   "outputs": [
    {
     "name": "stdout",
     "output_type": "stream",
     "text": [
      "5\n"
     ]
    }
   ],
   "source": [
    "s=\"HTML,PYTHON,CSS\"\n",
    "print(s.rfind(\"PYTHON\"))"
   ]
  },
  {
   "cell_type": "markdown",
   "metadata": {},
   "source": [
    "rfind serches the index from  right and find searches from left..\n",
    "\n",
    "Diffrence between index and find is that if the sub string is not found the index function will throw and error while\n",
    "find function will return -1"
   ]
  },
  {
   "cell_type": "markdown",
   "metadata": {},
   "source": [
    "# Strip()"
   ]
  },
  {
   "cell_type": "code",
   "execution_count": 11,
   "metadata": {},
   "outputs": [
    {
     "name": "stdout",
     "output_type": "stream",
     "text": [
      "    This is a string     \n",
      "This is a string\n"
     ]
    }
   ],
   "source": [
    "# to remove white spaces from a string\n",
    "\n",
    "s=\"    This is a string     \"\n",
    "s1=s.strip()\n",
    "print(s)\n",
    "print(s1)"
   ]
  },
  {
   "cell_type": "code",
   "execution_count": 12,
   "metadata": {},
   "outputs": [
    {
     "name": "stdout",
     "output_type": "stream",
     "text": [
      "*****This is a string******\n",
      "This is a string\n"
     ]
    }
   ],
   "source": [
    "# to remove * from a string\n",
    "\n",
    "s=\"*****This is a string******\"\n",
    "s1=s.strip(\"*\")\n",
    "print(s)\n",
    "print(s1)"
   ]
  },
  {
   "cell_type": "markdown",
   "metadata": {},
   "source": [
    "lstrip()  and rstrip()\n",
    "\n",
    "to remove charters from left and right of the string respectively "
   ]
  },
  {
   "cell_type": "markdown",
   "metadata": {},
   "source": [
    "# To convert a string into fixed length  Center(),ljust and rjust and replace()\n"
   ]
  },
  {
   "cell_type": "code",
   "execution_count": 15,
   "metadata": {},
   "outputs": [
    {
     "name": "stdout",
     "output_type": "stream",
     "text": [
      "*******python*******\n"
     ]
    }
   ],
   "source": [
    "s=\"python\"\n",
    "s1=s.center(20,\"*\")\n",
    "print(s1)"
   ]
  },
  {
   "cell_type": "code",
   "execution_count": 16,
   "metadata": {},
   "outputs": [
    {
     "name": "stdout",
     "output_type": "stream",
     "text": [
      "python**************\n"
     ]
    }
   ],
   "source": [
    "s=\"python\"\n",
    "s1=s.ljust(20,\"*\")\n",
    "print(s1)"
   ]
  },
  {
   "cell_type": "code",
   "execution_count": 20,
   "metadata": {},
   "outputs": [
    {
     "name": "stdout",
     "output_type": "stream",
     "text": [
      "**************python\n"
     ]
    }
   ],
   "source": [
    "s=\"python\"\n",
    "s1=s.rjust(20,\"*\")\n",
    "print(s1)"
   ]
  },
  {
   "cell_type": "code",
   "execution_count": 21,
   "metadata": {},
   "outputs": [
    {
     "name": "stdout",
     "output_type": "stream",
     "text": [
      "html5,python,string,html5\n"
     ]
    }
   ],
   "source": [
    "s=\"html,python,string,html\"\n",
    "s=s.replace(\"html\",\"html5\")\n",
    "print(s)"
   ]
  },
  {
   "cell_type": "code",
   "execution_count": null,
   "metadata": {},
   "outputs": [],
   "source": []
  }
 ],
 "metadata": {
  "kernelspec": {
   "display_name": "Python 3",
   "language": "python",
   "name": "python3"
  },
  "language_info": {
   "codemirror_mode": {
    "name": "ipython",
    "version": 3
   },
   "file_extension": ".py",
   "mimetype": "text/x-python",
   "name": "python",
   "nbconvert_exporter": "python",
   "pygments_lexer": "ipython3",
   "version": "3.7.6"
  }
 },
 "nbformat": 4,
 "nbformat_minor": 4
}
