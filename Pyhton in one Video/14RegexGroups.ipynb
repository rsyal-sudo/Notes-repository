{
 "cells": [
  {
   "cell_type": "code",
   "execution_count": 2,
   "metadata": {},
   "outputs": [
    {
     "name": "stdout",
     "output_type": "stream",
     "text": [
      "<re.Match object; span=(0, 10), match='12-05-2018'>\n"
     ]
    }
   ],
   "source": [
    "import re\n",
    "#dd-mm-yy\n",
    "s3=\"12-05-2018\"\n",
    "r3=re.compile(\"^[0-9]{2}-[0-9]{2}-[0-9]{4}$\")\n",
    "L3=re.search(r3,s3)\n",
    "print(L3)"
   ]
  },
  {
   "cell_type": "code",
   "execution_count": 6,
   "metadata": {},
   "outputs": [
    {
     "name": "stdout",
     "output_type": "stream",
     "text": [
      "12-05-2018\n"
     ]
    }
   ],
   "source": [
    "import re\n",
    "#dd-mm-yy\n",
    "s3=\"12-05-2018\"\n",
    "r3=re.compile(\"^[0-9]{2}-[0-9]{2}-[0-9]{4}$\")\n",
    "L3=re.search(r3,s3)\n",
    "if L3:\n",
    "   print(L3.group())\n",
    "else:\n",
    "    print(\"Pattern not found\")"
   ]
  },
  {
   "cell_type": "code",
   "execution_count": 7,
   "metadata": {},
   "outputs": [
    {
     "name": "stdout",
     "output_type": "stream",
     "text": [
      "12\n"
     ]
    }
   ],
   "source": [
    "#Grouping by putting regular expressions in a file:\n",
    "\n",
    "import re\n",
    "#dd-mm-yy\n",
    "s3=\"12-05-2018\"\n",
    "r3=re.compile(\"^([0-9]{2})-([0-9]{2})-([0-9]{4})$\")\n",
    "L3=re.search(r3,s3)\n",
    "if L3:\n",
    "   print(L3.group(1))\n",
    "else:\n",
    "    print(\"Pattern not found\")"
   ]
  },
  {
   "cell_type": "code",
   "execution_count": 8,
   "metadata": {},
   "outputs": [
    {
     "name": "stdout",
     "output_type": "stream",
     "text": [
      "05\n"
     ]
    }
   ],
   "source": [
    "#Grouping by putting regular expressions in a file:\n",
    "\n",
    "import re\n",
    "#dd-mm-yy\n",
    "s3=\"12-05-2018\"\n",
    "r3=re.compile(\"^([0-9]{2})-([0-9]{2})-([0-9]{4})$\")\n",
    "L3=re.search(r3,s3)\n",
    "if L3:\n",
    "   print(L3.group(2))\n",
    "else:\n",
    "    print(\"Pattern not found\")"
   ]
  },
  {
   "cell_type": "code",
   "execution_count": 9,
   "metadata": {},
   "outputs": [
    {
     "name": "stdout",
     "output_type": "stream",
     "text": [
      "2018\n"
     ]
    }
   ],
   "source": [
    "#Grouping by putting regular expressions in a file:\n",
    "\n",
    "import re\n",
    "#dd-mm-yy\n",
    "s3=\"12-05-2018\"\n",
    "r3=re.compile(\"^([0-9]{2})-([0-9]{2})-([0-9]{4})$\")\n",
    "L3=re.search(r3,s3)\n",
    "if L3:\n",
    "   print(L3.group(3))\n",
    "else:\n",
    "    print(\"Pattern not found\")"
   ]
  },
  {
   "cell_type": "code",
   "execution_count": 16,
   "metadata": {},
   "outputs": [
    {
     "name": "stdout",
     "output_type": "stream",
     "text": [
      "12\n"
     ]
    }
   ],
   "source": [
    "#Named Groups by putting regular expressions in a file:\n",
    "\n",
    "import re\n",
    "#dd-mm-yy\n",
    "s3=\"12-05-2018\"\n",
    "r3=re.compile(\"^(?P<date>[0-9]{2})-(?P<month>[0-9]{2})-(?P<year>[0-9]{4})$\")\n",
    "L3=re.search(r3,s3)\n",
    "if L3:\n",
    "   print(L3.group(\"date\"))\n",
    "else:\n",
    "    print(\"Pattern not found\")"
   ]
  },
  {
   "cell_type": "code",
   "execution_count": 18,
   "metadata": {},
   "outputs": [
    {
     "name": "stdout",
     "output_type": "stream",
     "text": [
      "8708805598\n"
     ]
    }
   ],
   "source": [
    "#Phone number 10 digit// first didgit should not be zero and first digit bw 6 and 9: Consider +91 as optional\n",
    "# and make it as non-capturing group\n",
    "s1=\"+91 8708805598\"\n",
    "r1=re.compile(\"(?:\\+91\\s)?([6-9][0-9]{9})$\")\n",
    "L1=re.search(r1,s1)\n",
    "if L1:\n",
    "   print(L1.group(1))\n",
    "else:\n",
    "    print(\"Pattern not found\")"
   ]
  },
  {
   "cell_type": "code",
   "execution_count": null,
   "metadata": {},
   "outputs": [],
   "source": [
    "'''\n",
    "Client side validations: \n",
    "\n",
    "[0-9]   --/d\n",
    "other than [0-9]  --/D\n",
    "[a-zA-Z0-9]  -- /w\n",
    "other than [a-zA-Z0-9] --/W\n",
    "space -- \\s\n",
    "other than space --\\S\n",
    "\n",
    "'''\n"
   ]
  }
 ],
 "metadata": {
  "kernelspec": {
   "display_name": "Python 3",
   "language": "python",
   "name": "python3"
  },
  "language_info": {
   "codemirror_mode": {
    "name": "ipython",
    "version": 3
   },
   "file_extension": ".py",
   "mimetype": "text/x-python",
   "name": "python",
   "nbconvert_exporter": "python",
   "pygments_lexer": "ipython3",
   "version": "3.7.6"
  }
 },
 "nbformat": 4,
 "nbformat_minor": 4
}
