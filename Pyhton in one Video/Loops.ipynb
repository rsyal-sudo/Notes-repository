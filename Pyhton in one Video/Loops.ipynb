{
 "cells": [
  {
   "cell_type": "markdown",
   "metadata": {},
   "source": [
    "# Conditional Statements"
   ]
  },
  {
   "cell_type": "markdown",
   "metadata": {},
   "source": [
    "if else elif"
   ]
  },
  {
   "cell_type": "markdown",
   "metadata": {},
   "source": [
    "Any non - zero number is evaluated as True whereas 0 and none are evaluated as False"
   ]
  },
  {
   "cell_type": "markdown",
   "metadata": {},
   "source": [
    "# For Loops\n",
    "\n",
    "\n",
    "For [Variable] in [Iteratable Data type]:\n",
    "\n",
    "    statements\n",
    "    \n",
    "String , list, dictionary, tuples are all iteratable data types\n",
    "\n",
    "for value in Range(5)\n",
    "\n",
    "for value in Range(10,100)\n",
    "\n",
    "for value in Range(10,100,5)"
   ]
  },
  {
   "cell_type": "markdown",
   "metadata": {},
   "source": [
    "# Break, Continue and enumerate"
   ]
  },
  {
   "cell_type": "code",
   "execution_count": 4,
   "metadata": {},
   "outputs": [
    {
     "name": "stdout",
     "output_type": "stream",
     "text": [
      "10  \n",
      "20  \n",
      "30  \n",
      "Element Found\n"
     ]
    }
   ],
   "source": [
    "#Break Example\n",
    "l=[10,20,30,40,50,60] \n",
    "key=40\n",
    "for value in l:\n",
    "    if value==40:\n",
    "        print(\"Element Found\")\n",
    "        break\n",
    "    else:\n",
    "        print(value,\" \")"
   ]
  },
  {
   "cell_type": "code",
   "execution_count": 6,
   "metadata": {},
   "outputs": [
    {
     "name": "stdout",
     "output_type": "stream",
     "text": [
      "10  \n",
      "20  \n",
      "30  \n",
      "50  \n",
      "60  \n"
     ]
    }
   ],
   "source": [
    "#Contitnue Example\n",
    "l=[10,20,30,40,50,60]\n",
    "key=40\n",
    "for value in l:\n",
    "    if value==40:\n",
    "        continue\n",
    "    else:\n",
    "        print(value,\" \")"
   ]
  },
  {
   "cell_type": "code",
   "execution_count": 10,
   "metadata": {},
   "outputs": [
    {
     "name": "stdout",
     "output_type": "stream",
     "text": [
      "Element not found\n"
     ]
    }
   ],
   "source": [
    "#Optional else block \n",
    "l=[10,20,30,40,50,60]\n",
    "key=400\n",
    "for value in l:\n",
    "    if value==key:\n",
    "        print(\"Element found\")\n",
    "        break\n",
    "    else:\n",
    "        continue\n",
    "else:\n",
    "    print(\"Element not found\")"
   ]
  },
  {
   "cell_type": "code",
   "execution_count": 11,
   "metadata": {},
   "outputs": [
    {
     "name": "stdout",
     "output_type": "stream",
     "text": [
      "0 10\n",
      "1 20\n",
      "2 30\n",
      "3 40\n",
      "4 50\n",
      "5 60\n"
     ]
    }
   ],
   "source": [
    "# Enumeraate Example\n",
    "l=[10,20,30,40,50,60]\n",
    "for index,value in enumerate(l):\n",
    "    print(index,value)"
   ]
  },
  {
   "cell_type": "code",
   "execution_count": 14,
   "metadata": {},
   "outputs": [
    {
     "name": "stdout",
     "output_type": "stream",
     "text": [
      "print after pass\n",
      "print after pass\n",
      "print after pass\n",
      "Element found\n"
     ]
    }
   ],
   "source": [
    "# pass keyword is used when the functionality is not defined for a block of code\n",
    "l=[10,20,30,40,50,60]\n",
    "key=40\n",
    "for value in l:\n",
    "    if value==key:\n",
    "        print(\"Element found\")\n",
    "        break\n",
    "    else:\n",
    "        pass\n",
    "        print(\"print after pass\")\n",
    "else:\n",
    "    print(\"Element not found\")"
   ]
  },
  {
   "cell_type": "markdown",
   "metadata": {},
   "source": [
    "# While loop in python"
   ]
  },
  {
   "cell_type": "markdown",
   "metadata": {},
   "source": [
    "While [Condition]:\n",
    "    \n",
    "    Statements\n",
    "    \n",
    "else:\n",
    "    \n",
    "    "
   ]
  },
  {
   "cell_type": "code",
   "execution_count": null,
   "metadata": {},
   "outputs": [],
   "source": []
  }
 ],
 "metadata": {
  "kernelspec": {
   "display_name": "Python 3",
   "language": "python",
   "name": "python3"
  },
  "language_info": {
   "codemirror_mode": {
    "name": "ipython",
    "version": 3
   },
   "file_extension": ".py",
   "mimetype": "text/x-python",
   "name": "python",
   "nbconvert_exporter": "python",
   "pygments_lexer": "ipython3",
   "version": "3.7.6"
  }
 },
 "nbformat": 4,
 "nbformat_minor": 4
}
