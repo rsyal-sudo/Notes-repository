{
 "cells": [
  {
   "cell_type": "markdown",
   "metadata": {},
   "source": [
    "# Functions ()"
   ]
  },
  {
   "cell_type": "markdown",
   "metadata": {},
   "source": [
    "Code Reuse\n",
    "\n",
    "Modularity\n",
    "\n",
    "function defination\n",
    "\n",
    "function call\n"
   ]
  },
  {
   "cell_type": "code",
   "execution_count": 3,
   "metadata": {},
   "outputs": [
    {
     "name": "stdout",
     "output_type": "stream",
     "text": [
      "nothyP\n"
     ]
    }
   ],
   "source": [
    "#Reverse a string\n",
    "\n",
    "def value_Rev(value):\n",
    "    reverse= value[::-1]\n",
    "    print(reverse)\n",
    "    \n",
    "s=\"Pyhton\"\n",
    "value_Rev(s)\n"
   ]
  },
  {
   "cell_type": "code",
   "execution_count": 4,
   "metadata": {},
   "outputs": [
    {
     "name": "stdout",
     "output_type": "stream",
     "text": [
      "nothyP\n"
     ]
    }
   ],
   "source": [
    "#Reverse a string\n",
    "\n",
    "def value_Rev(value):\n",
    "    reverse= value[::-1]\n",
    "    return reverse\n",
    "    \n",
    "s=\"Pyhton\"\n",
    "r=value_Rev(s)\n",
    "print(r)\n"
   ]
  },
  {
   "cell_type": "code",
   "execution_count": 14,
   "metadata": {},
   "outputs": [
    {
     "name": "stdout",
     "output_type": "stream",
     "text": [
      "[7, 6, 5, 4, 3, 2, 1]\n"
     ]
    }
   ],
   "source": [
    "# Program to reverse interger input as well\n",
    "\n",
    "#Reverse a string\n",
    "\n",
    "def value_Rev(value):\n",
    "    if type(value)==str or type(value)==list:\n",
    "        reverse= value[::-1]\n",
    "    else:\n",
    "        value=str(value)\n",
    "        reverse= value[::-1]\n",
    "    return reverse\n",
    "    \n",
    "s=\"Pyhton\"\n",
    "i=1234567\n",
    "l=[1,2,3,4,5,6,7]\n",
    "r=value_Rev(l)\n",
    "print(r)\n"
   ]
  },
  {
   "cell_type": "markdown",
   "metadata": {},
   "source": [
    "# User Defined Functions()\n",
    "\n",
    "Positional Arguments\n",
    "\n",
    "Default Arguments\n",
    "\n",
    "Keyword Arguments\n",
    "\n",
    "Variable length Positional Arguments\n",
    "\n",
    "Variable length keyword Arguments\n"
   ]
  },
  {
   "cell_type": "code",
   "execution_count": 24,
   "metadata": {},
   "outputs": [
    {
     "name": "stdout",
     "output_type": "stream",
     "text": [
      "False\n"
     ]
    }
   ],
   "source": [
    "#Defining a liner search function :Postional Argument\n",
    "\n",
    "found=1\n",
    "def linear_search(l,key):\n",
    "    for value in l:\n",
    "        if key==value:\n",
    "            found=0\n",
    "            return True\n",
    "    else:\n",
    "            return False\n",
    "    \n",
    "l=[100,200,300,400]\n",
    "key=500\n",
    "\n",
    "r=linear_search(l,key)\n",
    "print(r)"
   ]
  },
  {
   "cell_type": "code",
   "execution_count": 110,
   "metadata": {},
   "outputs": [
    {
     "name": "stdout",
     "output_type": "stream",
     "text": [
      "32X9w\n"
     ]
    }
   ],
   "source": [
    "#Define a function to generate random password :  Default Argument length\n",
    "#8 char long\n",
    "#5 random digits\n",
    "#1 special char\n",
    "#1 upper case\n",
    "#1 lower case\n",
    "\n",
    "import random\n",
    "\n",
    "def generate_password(length=8):\n",
    "    l=['@','!','%','&']\n",
    "    special=random.choice(l)\n",
    "    upper=chr(random.randint(65,90))\n",
    "    lower=chr(random.randint(97,122))\n",
    "    digit_5=str(random.randint(1000,99999))\n",
    "    password=special+upper+lower+digit_5\n",
    "    password=list(password)\n",
    "    random.shuffle(password)\n",
    "    password=random.sample(password,length)\n",
    "    password=(\"\").join(password)\n",
    "    return password\n",
    "\n",
    "result = generate_password(3)\n",
    "result = generate_password()\n",
    "result = generate_password(5)\n",
    "print(result)"
   ]
  },
  {
   "cell_type": "code",
   "execution_count": 79,
   "metadata": {},
   "outputs": [
    {
     "name": "stdout",
     "output_type": "stream",
     "text": [
      "65 90\n",
      "97 122\n"
     ]
    }
   ],
   "source": [
    "print(ord('A'),ord('Z'))\n",
    "print(ord('a'),ord('z'))"
   ]
  },
  {
   "cell_type": "code",
   "execution_count": 115,
   "metadata": {},
   "outputs": [
    {
     "name": "stdout",
     "output_type": "stream",
     "text": [
      "Valid User\n",
      "Invalid User\n"
     ]
    }
   ],
   "source": [
    "# Validate username Password using keyword arguments\n",
    "\n",
    "def validate(username,password):\n",
    "    if username==\"ABC\" and password==\"1234\":\n",
    "        print(\"Valid User\")\n",
    "    else:\n",
    "        print(\"Invalid User\")\n",
    "        \n",
    "\n",
    "validate(password=\"1234\",username=\"ABC\")\n",
    "\n",
    "validate(password=\"1234\",username=\"ABCD\")"
   ]
  },
  {
   "cell_type": "code",
   "execution_count": 116,
   "metadata": {},
   "outputs": [
    {
     "name": "stdout",
     "output_type": "stream",
     "text": [
      "Help on built-in function print in module builtins:\n",
      "\n",
      "print(...)\n",
      "    print(value, ..., sep=' ', end='\\n', file=sys.stdout, flush=False)\n",
      "    \n",
      "    Prints the values to a stream, or to sys.stdout by default.\n",
      "    Optional keyword arguments:\n",
      "    file:  a file-like object (stream); defaults to the current sys.stdout.\n",
      "    sep:   string inserted between values, default a space.\n",
      "    end:   string appended after the last value, default a newline.\n",
      "    flush: whether to forcibly flush the stream.\n",
      "\n"
     ]
    }
   ],
   "source": [
    "#Print function\n",
    "\n",
    "help(print)"
   ]
  },
  {
   "cell_type": "code",
   "execution_count": 117,
   "metadata": {},
   "outputs": [
    {
     "name": "stdout",
     "output_type": "stream",
     "text": [
      "Rahul_Syal!"
     ]
    }
   ],
   "source": [
    "print(\"Rahul\",\"Syal\",sep=\"_\",end=\"!\")"
   ]
  },
  {
   "cell_type": "code",
   "execution_count": 123,
   "metadata": {},
   "outputs": [
    {
     "name": "stdout",
     "output_type": "stream",
     "text": [
      "[1, 2, 3, 5, 8]\n",
      "[5, 6]\n"
     ]
    }
   ],
   "source": [
    "#Variable lengh argument positional\n",
    "\n",
    "def add_value(*args):\n",
    "    l=[]\n",
    "    for value in args:\n",
    "        l.append(value)\n",
    "        \n",
    "    return l\n",
    "    \n",
    "# *args will pass a tuple value\n",
    "\n",
    "r=add_value(1,2,3,5,8)\n",
    "print(r)\n",
    "print(add_value(5,6))\n",
    "\n",
    "    "
   ]
  },
  {
   "cell_type": "code",
   "execution_count": 128,
   "metadata": {},
   "outputs": [
    {
     "name": "stdout",
     "output_type": "stream",
     "text": [
      "{'name': 'syal', 'email': 'syal1234'}\n",
      "{'name': 'syal', 'email': 'syal1234', 'contact': '121313'}\n",
      "{'name': 'syal', 'email': 'syal1234', 'contact': '121313', 'address': 'street'}\n"
     ]
    }
   ],
   "source": [
    "#Variable lengh argument keyword\n",
    "\n",
    "def add_keyvalue(**kwargs):\n",
    "    print(kwargs)\n",
    "    \n",
    "# **kwargs will pass a dictionary value\n",
    "\n",
    "add_keyvalue(name=\"syal\",email=\"syal1234\")\n",
    "add_keyvalue(name=\"syal\",email=\"syal1234\",contact=\"121313\")\n",
    "add_keyvalue(name=\"syal\",email=\"syal1234\",contact=\"121313\",address='street')"
   ]
  },
  {
   "cell_type": "code",
   "execution_count": null,
   "metadata": {},
   "outputs": [],
   "source": []
  }
 ],
 "metadata": {
  "kernelspec": {
   "display_name": "Python 3",
   "language": "python",
   "name": "python3"
  },
  "language_info": {
   "codemirror_mode": {
    "name": "ipython",
    "version": 3
   },
   "file_extension": ".py",
   "mimetype": "text/x-python",
   "name": "python",
   "nbconvert_exporter": "python",
   "pygments_lexer": "ipython3",
   "version": "3.7.6"
  }
 },
 "nbformat": 4,
 "nbformat_minor": 4
}
