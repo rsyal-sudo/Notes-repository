{
 "cells": [
  {
   "cell_type": "code",
   "execution_count": 2,
   "metadata": {},
   "outputs": [
    {
     "name": "stdout",
     "output_type": "stream",
     "text": [
      "120\n"
     ]
    }
   ],
   "source": [
    "#Recursion is when function calls itself\n",
    "\n",
    "def factorial(n):\n",
    "    if n==1:\n",
    "        return 1\n",
    "    else:\n",
    "        return n* factorial(n-1)\n",
    "\n",
    "print(factorial(5))\n",
    "\n",
    "## 5*factorial(4)\n",
    "         ## 4*factorial(3)\n",
    "                 ## 3*factorial(2)\n",
    "                          ## 2*factorial(1)\n",
    "   \n"
   ]
  },
  {
   "cell_type": "code",
   "execution_count": 12,
   "metadata": {},
   "outputs": [
    {
     "name": "stdout",
     "output_type": "stream",
     "text": [
      "True\n"
     ]
    }
   ],
   "source": [
    "#Binary search\n",
    "\n",
    "def binary_search(l,key):\n",
    "    if len(l)==0:\n",
    "        return False\n",
    "    else:\n",
    "        mid=len(l)//2\n",
    "    \n",
    "    if l[mid]==key:\n",
    "        return True\n",
    "    elif key<l[mid]:\n",
    "        return binary_search(l[:mid],key)\n",
    "    else:\n",
    "        return binary_search(l[mid+1:],key)\n",
    "    \n",
    "    \n",
    "l=[100,200,300,400,500,600,700,800]\n",
    "key=800\n",
    "print(binary_search(l,key))"
   ]
  },
  {
   "cell_type": "code",
   "execution_count": null,
   "metadata": {},
   "outputs": [],
   "source": []
  }
 ],
 "metadata": {
  "kernelspec": {
   "display_name": "Python 3",
   "language": "python",
   "name": "python3"
  },
  "language_info": {
   "codemirror_mode": {
    "name": "ipython",
    "version": 3
   },
   "file_extension": ".py",
   "mimetype": "text/x-python",
   "name": "python",
   "nbconvert_exporter": "python",
   "pygments_lexer": "ipython3",
   "version": "3.7.6"
  }
 },
 "nbformat": 4,
 "nbformat_minor": 4
}
