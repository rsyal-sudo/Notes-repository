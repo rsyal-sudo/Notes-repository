{
 "cells": [
  {
   "cell_type": "markdown",
   "metadata": {},
   "source": [
    "# Strings"
   ]
  },
  {
   "cell_type": "markdown",
   "metadata": {},
   "source": [
    "Stings are immutable\n",
    "\n",
    "Strings support slicing and indexing \n",
    "\n",
    "eg s= \"Rahul\"\n",
    "\n",
    "Indexing s[0]\n",
    "\n",
    "Slicing  s[0:5]\n",
    "\n",
    "s[::2]\n",
    "\n",
    "\n",
    "for value in s:\n",
    "    print value\n",
    "    \n",
    "for value in s[::2]:\n",
    "    print value"
   ]
  },
  {
   "cell_type": "markdown",
   "metadata": {},
   "source": [
    "# String Functions "
   ]
  },
  {
   "cell_type": "markdown",
   "metadata": {},
   "source": [
    "# help(str)\n",
    "\n",
    "print(dir(str))\n",
    "\n"
   ]
  },
  {
   "cell_type": "markdown",
   "metadata": {},
   "source": [
    "# .format()"
   ]
  },
  {
   "cell_type": "code",
   "execution_count": 1,
   "metadata": {},
   "outputs": [
    {
     "name": "stdout",
     "output_type": "stream",
     "text": [
      "Value of num1 is 100 value of num2 is 200\n"
     ]
    }
   ],
   "source": [
    "num1=100\n",
    "num2=200\n",
    "print(\"Value of num1 is {} value of num2 is {}\".format(num1,num2))"
   ]
  },
  {
   "cell_type": "code",
   "execution_count": 2,
   "metadata": {},
   "outputs": [
    {
     "name": "stdout",
     "output_type": "stream",
     "text": [
      "Value of num1 is 200 value of num2 is 100\n"
     ]
    }
   ],
   "source": [
    "# to swap values\n",
    "num1=100\n",
    "num2=200\n",
    "print(\"Value of num1 is {1} value of num2 is {0}\".format(num1,num2))"
   ]
  },
  {
   "cell_type": "code",
   "execution_count": 3,
   "metadata": {},
   "outputs": [
    {
     "name": "stdout",
     "output_type": "stream",
     "text": [
      "Value of num1 is 100 value of num2 is 200\n"
     ]
    }
   ],
   "source": [
    "# to swap values\n",
    "num1=100\n",
    "num2=200\n",
    "print(\"Value of num1 is {val1} value of num2 is {val2}\".format(val1=num1,val2=num2))"
   ]
  },
  {
   "cell_type": "markdown",
   "metadata": {},
   "source": [
    "# .capitalize()"
   ]
  },
  {
   "cell_type": "code",
   "execution_count": 7,
   "metadata": {},
   "outputs": [
    {
     "name": "stdout",
     "output_type": "stream",
     "text": [
      "This is a python string\n"
     ]
    }
   ],
   "source": [
    "s=\"this is a python string\"\n",
    "s=s.capitalize()\n",
    "print(s)"
   ]
  },
  {
   "cell_type": "markdown",
   "metadata": {},
   "source": [
    "# upper()  lower()  title()"
   ]
  },
  {
   "cell_type": "code",
   "execution_count": 8,
   "metadata": {},
   "outputs": [
    {
     "name": "stdout",
     "output_type": "stream",
     "text": [
      "THIS IS A PYTHON STRING\n",
      "this is a python string\n",
      "This Is A Python String\n"
     ]
    }
   ],
   "source": [
    "print(s.upper())\n",
    "print(s.lower())\n",
    "print(s.title())"
   ]
  },
  {
   "cell_type": "markdown",
   "metadata": {},
   "source": [
    "# isupper() islower() istitle()"
   ]
  },
  {
   "cell_type": "code",
   "execution_count": 9,
   "metadata": {},
   "outputs": [
    {
     "data": {
      "text/plain": [
       "False"
      ]
     },
     "execution_count": 9,
     "metadata": {},
     "output_type": "execute_result"
    }
   ],
   "source": [
    "s.isupper()"
   ]
  },
  {
   "cell_type": "markdown",
   "metadata": {},
   "source": [
    "# split()  join()"
   ]
  },
  {
   "cell_type": "code",
   "execution_count": 10,
   "metadata": {},
   "outputs": [
    {
     "name": "stdout",
     "output_type": "stream",
     "text": [
      "['HTML', 'CSS', 'PYTHON', 'JAVA']\n"
     ]
    }
   ],
   "source": [
    "s=\"HTML,CSS,PYTHON,JAVA\"\n",
    "l=s.split(\",\")\n",
    "print(l)"
   ]
  },
  {
   "cell_type": "code",
   "execution_count": 11,
   "metadata": {},
   "outputs": [
    {
     "name": "stdout",
     "output_type": "stream",
     "text": [
      "HTML CSS PYTHON JAVA\n"
     ]
    }
   ],
   "source": [
    "s1=(\" \").join(l)\n",
    "print(s1)"
   ]
  },
  {
   "cell_type": "markdown",
   "metadata": {},
   "source": [
    "# maketrans() translate()"
   ]
  },
  {
   "cell_type": "code",
   "execution_count": null,
   "metadata": {},
   "outputs": [],
   "source": []
  }
 ],
 "metadata": {
  "kernelspec": {
   "display_name": "Python 3",
   "language": "python",
   "name": "python3"
  },
  "language_info": {
   "codemirror_mode": {
    "name": "ipython",
    "version": 3
   },
   "file_extension": ".py",
   "mimetype": "text/x-python",
   "name": "python",
   "nbconvert_exporter": "python",
   "pygments_lexer": "ipython3",
   "version": "3.7.6"
  }
 },
 "nbformat": 4,
 "nbformat_minor": 4
}
