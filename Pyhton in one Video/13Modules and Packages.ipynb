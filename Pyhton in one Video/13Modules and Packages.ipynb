{
 "cells": [
  {
   "cell_type": "markdown",
   "metadata": {},
   "source": [
    "# Creating module and Packages\n",
    "\n",
    "Install ipynb from your command prompt\n",
    "\n",
    "pip install import-ipynb\n",
    "\n",
    "Import in your notebook file\n",
    "\n",
    "import import_ipynb\n",
    "\n",
    "\n",
    "Now use regular import command to import your file\n",
    "\n",
    "import MyOtherNotebook"
   ]
  },
  {
   "cell_type": "code",
   "execution_count": 1,
   "metadata": {},
   "outputs": [
    {
     "name": "stdout",
     "output_type": "stream",
     "text": [
      "importing Jupyter notebook from RecursiveFunctions.ipynb\n",
      "120\n",
      "True\n"
     ]
    }
   ],
   "source": [
    "import import_ipynb\n",
    "import RecursiveFunctions"
   ]
  },
  {
   "cell_type": "code",
   "execution_count": 2,
   "metadata": {},
   "outputs": [],
   "source": [
    "# In the above import 120 and True are the output of function exectutions. To avoid this use \n",
    "\n",
    "# if __name__=='__main__':    \n",
    "    #In the file which is to be imported !"
   ]
  },
  {
   "cell_type": "code",
   "execution_count": 3,
   "metadata": {},
   "outputs": [
    {
     "name": "stdout",
     "output_type": "stream",
     "text": [
      "True\n"
     ]
    }
   ],
   "source": [
    "l=[1,2,3,4,5]\n",
    "key=5\n",
    "print(RecursiveFunctions.binary_search(l,key))"
   ]
  },
  {
   "cell_type": "code",
   "execution_count": 4,
   "metadata": {},
   "outputs": [
    {
     "name": "stdout",
     "output_type": "stream",
     "text": [
      "720\n"
     ]
    }
   ],
   "source": [
    "l=[1,2,3,4,5]\n",
    "key=5\n",
    "print(RecursiveFunctions.factorial(6))"
   ]
  },
  {
   "cell_type": "code",
   "execution_count": 9,
   "metadata": {},
   "outputs": [
    {
     "name": "stdout",
     "output_type": "stream",
     "text": [
      "Help on module RecursiveFunctions:\n",
      "\n",
      "NAME\n",
      "    RecursiveFunctions\n",
      "\n",
      "FUNCTIONS\n",
      "    binary_search(l, key)\n",
      "    \n",
      "    factorial(n)\n",
      "\n",
      "DATA\n",
      "    key = 800\n",
      "    l = [100, 200, 300, 400, 500, 600, 700, 800]\n",
      "\n",
      "FILE\n",
      "    c:\\users\\rahul syal\\documents\\pyhton in one video\\recursivefunctions.ipynb\n",
      "\n",
      "\n"
     ]
    }
   ],
   "source": [
    "help(RecursiveFunctions)"
   ]
  },
  {
   "cell_type": "markdown",
   "metadata": {},
   "source": [
    "\"\"\"\n",
    "Docstring: This module contains binary search implementation \n",
    "\n",
    "\"\"\"\n",
    " This is written on top of file \n",
    "    \n",
    "    RecursiveFunctions.ipynb"
   ]
  },
  {
   "cell_type": "code",
   "execution_count": 12,
   "metadata": {},
   "outputs": [
    {
     "name": "stdout",
     "output_type": "stream",
     "text": [
      "Help on module RecursiveFunctions:\n",
      "\n",
      "NAME\n",
      "    RecursiveFunctions\n",
      "\n",
      "FUNCTIONS\n",
      "    binary_search(l, key)\n",
      "    \n",
      "    factorial(n)\n",
      "\n",
      "DATA\n",
      "    key = 800\n",
      "    l = [100, 200, 300, 400, 500, 600, 700, 800]\n",
      "\n",
      "FILE\n",
      "    c:\\users\\rahul syal\\documents\\pyhton in one video\\recursivefunctions.ipynb\n",
      "\n",
      "\n"
     ]
    }
   ],
   "source": [
    "help(RecursiveFunctions)"
   ]
  },
  {
   "cell_type": "code",
   "execution_count": 13,
   "metadata": {},
   "outputs": [
    {
     "name": "stdout",
     "output_type": "stream",
     "text": [
      "Help on module RecursiveFunctions:\n",
      "\n",
      "NAME\n",
      "    RecursiveFunctions\n",
      "\n",
      "FUNCTIONS\n",
      "    binary_search(l, key)\n",
      "    \n",
      "    factorial(n)\n",
      "\n",
      "DATA\n",
      "    key = 800\n",
      "    l = [100, 200, 300, 400, 500, 600, 700, 800]\n",
      "\n",
      "FILE\n",
      "    c:\\users\\rahul syal\\documents\\pyhton in one video\\recursivefunctions.ipynb\n",
      "\n",
      "\n"
     ]
    }
   ],
   "source": [
    "help(RecursiveFunctions)"
   ]
  },
  {
   "cell_type": "code",
   "execution_count": 14,
   "metadata": {},
   "outputs": [
    {
     "data": {
      "text/plain": [
       "'\\n This is written on top of file \\n    \\n    RecursiveFunctions.py file\\n    \\n    Note we are using notebooks whose extension is RecursiveFunctions.ipynb\\n    \\nAlso, every .py file is a module in pyhton.. \\n\\nPackage is nothing but just a directory.\\n\\nTo make a a folder as directory create a empty file in that folder with below name\\n\\nJust create \\n\\n#__init__.py file in the same folder structure\\n\\n'"
      ]
     },
     "execution_count": 14,
     "metadata": {},
     "output_type": "execute_result"
    }
   ],
   "source": [
    "\"\"\"\n",
    "Docstring: This module contains binary search implementation \n",
    "\n",
    "\"\"\"\n",
    "\"\"\"\n",
    " This is written on top of file \n",
    "    \n",
    "    RecursiveFunctions.py file\n",
    "    \n",
    "    Note we are using notebooks whose extension is RecursiveFunctions.ipynb\n",
    "    \n",
    "Also, every .py file is a module in pyhton.. \n",
    "\n",
    "Package is nothing but just a directory.\n",
    "\n",
    "To make a a folder as directory create a empty file in that folder with below name\n",
    "\n",
    "Just create \n",
    "\n",
    "#__init__.py file in the same folder structure\n",
    "\n",
    "\"\"\""
   ]
  },
  {
   "cell_type": "code",
   "execution_count": null,
   "metadata": {},
   "outputs": [],
   "source": []
  }
 ],
 "metadata": {
  "kernelspec": {
   "display_name": "Python 3",
   "language": "python",
   "name": "python3"
  },
  "language_info": {
   "codemirror_mode": {
    "name": "ipython",
    "version": 3
   },
   "file_extension": ".py",
   "mimetype": "text/x-python",
   "name": "python",
   "nbconvert_exporter": "python",
   "pygments_lexer": "ipython3",
   "version": "3.7.6"
  }
 },
 "nbformat": 4,
 "nbformat_minor": 4
}
